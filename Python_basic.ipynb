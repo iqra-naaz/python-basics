{
  "nbformat": 4,
  "nbformat_minor": 0,
  "metadata": {
    "colab": {
      "provenance": []
    },
    "kernelspec": {
      "name": "python3",
      "display_name": "Python 3"
    },
    "language_info": {
      "name": "python"
    }
  },
  "cells": [
    {
      "cell_type": "markdown",
      "source": [
        "#Python basic\n"
      ],
      "metadata": {
        "id": "SGCFFRb1YuF9"
      }
    },
    {
      "cell_type": "markdown",
      "source": [
        "#Practical Questions\n"
      ],
      "metadata": {
        "id": "L7e-zzK4YXCu"
      }
    },
    {
      "cell_type": "markdown",
      "source": [
        "# 1. What is Python, and why is it popular ?\n",
        "  - Python is a high-level programming language that is easy to read and write because its syntax is simple and close to plain English. It’s popular because it’s versatile—you can use it for web development, data science, AI, automation, and more. Plus, it has a huge community and tons of ready-made libraries, so you don’t have to start from scratch every time."
      ],
      "metadata": {
        "id": "s_h7swligJq8"
      }
    },
    {
      "cell_type": "markdown",
      "source": [
        "# 2. What is an interpreter in Python?\n",
        "   - The Python interpreter is the program that reads and executes your Python code. Instead of compiling the whole code into machine language beforehand, it runs the code line by line. That’s why you can test small chunks of Python easily without building an entire executable."
      ],
      "metadata": {
        "id": "X2Xp_VKrijAq"
      }
    },
    {
      "cell_type": "markdown",
      "source": [
        "# 3. What are pre-defined keywords in Python?\n",
        " - Pre-defined keywords are special words that Python has reserved for its own use—like if, for, while, True, False, and so on. They have fixed meanings and rules, so you can’t use them for naming variables or functions. Think of them as “VIP words” in Python’s dictionary."
      ],
      "metadata": {
        "id": "8LeChT8ni14r"
      }
    },
    {
      "cell_type": "markdown",
      "source": [
        "# 4. Can keywords be used as variable names?\n",
        "  - Nope. If you try to use a keyword as a variable name, Python will throw a syntax error."
      ],
      "metadata": {
        "id": "SZ5qTu3LjKGl"
      }
    },
    {
      "cell_type": "markdown",
      "source": [
        "# 5. What is mutability in Python?\n",
        "  - Mutability means whether the content of an object can be changed after it’s created. If it’s mutable, you can update or modify it in place; if it’s immutable, you can’t."
      ],
      "metadata": {
        "id": "uZqgBxMMjVcf"
      }
    },
    {
      "cell_type": "markdown",
      "source": [
        "# 6. Why are lists mutable, but tuples are immutable?\n",
        "  - Lists are designed for flexibility—you can add, remove, or change items. Tuples, on the other hand, are fixed collections; once created, their contents can’t be changed. This makes tuples faster and useful when you want data that should stay constant."
      ],
      "metadata": {
        "id": "EubPa-Mkjcvn"
      }
    },
    {
      "cell_type": "markdown",
      "source": [
        "# 7. What is the difference between “==” and “is” operators in Python?\n",
        "\n",
        "  - == checks if the values are the same.\n",
        "\n",
        "    is checks if two variables point to the exact same object in memory."
      ],
      "metadata": {
        "id": "O_PQEG9ijqYX"
      }
    },
    {
      "cell_type": "markdown",
      "source": [
        "# 8. What are logical operators in Python?\n",
        "  - Logical operators combine or modify conditions:\n",
        "\n",
        "    and → True if both conditions are True\n",
        "\n",
        "    or → True if at least one condition is True\n",
        "\n",
        "    not → Reverses the truth value\n",
        "    They’re like the traffic rules for decision-making in code."
      ],
      "metadata": {
        "id": "X-JuBTPnj4JN"
      }
    },
    {
      "cell_type": "markdown",
      "source": [
        "# 9. What is type casting in Python?\n",
        " - Type casting means changing a value from one data type to another—like turning a string \"123\" into an integer 123. It helps when you need data in a specific form for calculations or comparisons."
      ],
      "metadata": {
        "id": "6KNsXEMckPMi"
      }
    },
    {
      "cell_type": "markdown",
      "source": [
        "# 10. What is the difference between implicit and explicit type casting?\n",
        "\n",
        " - Implicit: Python automatically converts the type for you (e.g., int +   float → float).\n",
        "\n",
        "  Explicit: You tell Python to convert the type using functions like int(), float(), or str()."
      ],
      "metadata": {
        "id": "smkeOpRRkYc1"
      }
    },
    {
      "cell_type": "markdown",
      "source": [
        "# 11. What is the purpose of conditional statements in Python?\n",
        " - Conditional statements let your program make decisions. They run certain blocks of code only when specific conditions are met, like an “if this happens, do that” rule."
      ],
      "metadata": {
        "id": "qH73tOISkhhN"
      }
    },
    {
      "cell_type": "markdown",
      "source": [
        "# 12. How does the elif statement work?\n",
        "  - elif (short for “else if”) lets you check multiple conditions in sequence. If the first if is False, Python moves on to the elif and checks that. It’s cleaner than writing many separate if statements."
      ],
      "metadata": {
        "id": "laaCIa5ykwd4"
      }
    },
    {
      "cell_type": "markdown",
      "source": [
        "# 13. What is the difference between for and while loops?\n",
        "\n",
        "  - for loop → Runs a set number of times or goes through each item in a   sequence.\n",
        "\n",
        "   while loop → Keeps running as long as a condition is True, so the number of repetitions isn’t fixed."
      ],
      "metadata": {
        "id": "WxZRiaWjlExZ"
      }
    },
    {
      "cell_type": "markdown",
      "source": [
        "# 14. Describe a scenario where a while loop is more suitable than a for loop.\n",
        "  - If you don’t know exactly how many times you need to repeat something—for example, asking a user to guess a password until they get it right—a while loop is perfect because it depends on a condition, not a fixed count."
      ],
      "metadata": {
        "id": "g2YYji0_lL6N"
      }
    },
    {
      "cell_type": "markdown",
      "source": [
        "# Practical question\n"
      ],
      "metadata": {
        "id": "lUJ-LnXGlpGI"
      }
    },
    {
      "cell_type": "code",
      "execution_count": null,
      "metadata": {
        "colab": {
          "base_uri": "https://localhost:8080/"
        },
        "id": "QqetJfEbQJ-s",
        "outputId": "b8d09fd4-496e-4fc7-f35a-29f0f8045f4a"
      },
      "outputs": [
        {
          "output_type": "stream",
          "name": "stdout",
          "text": [
            "Hello, World!\n"
          ]
        }
      ],
      "source": [
        "# 1 Write a Python program to print \"Hello, World!\"\n",
        "print(\"Hello, World!\")"
      ]
    },
    {
      "cell_type": "code",
      "source": [
        "# 2 Write a Python program that displays your name and age.\n",
        "name = input(\"Enter your name: \")\n",
        "age = int(input(\"Enter your age: \"))\n",
        "print(\"Name:\", name)\n",
        "print(\"Age:\", age)"
      ],
      "metadata": {
        "colab": {
          "base_uri": "https://localhost:8080/"
        },
        "id": "QQypOFQ9adrx",
        "outputId": "8fecaccd-db08-4f02-94fb-ee1af9f392e6"
      },
      "execution_count": null,
      "outputs": [
        {
          "output_type": "stream",
          "name": "stdout",
          "text": [
            "Enter your name: jack\n",
            "Enter your age: 18\n",
            "Name: jack\n",
            "Age: 18\n"
          ]
        }
      ]
    },
    {
      "cell_type": "code",
      "source": [
        "# 3 Write code to print all the pre-defined keywords in Python using the keyword library.\n",
        "import keyword\n",
        "print(keyword.kwlist)\n"
      ],
      "metadata": {
        "colab": {
          "base_uri": "https://localhost:8080/"
        },
        "id": "pfmdGff0bBDF",
        "outputId": "28f8ef15-fb01-41a5-e433-34e68f38f5de"
      },
      "execution_count": null,
      "outputs": [
        {
          "output_type": "stream",
          "name": "stdout",
          "text": [
            "['False', 'None', 'True', 'and', 'as', 'assert', 'async', 'await', 'break', 'class', 'continue', 'def', 'del', 'elif', 'else', 'except', 'finally', 'for', 'from', 'global', 'if', 'import', 'in', 'is', 'lambda', 'nonlocal', 'not', 'or', 'pass', 'raise', 'return', 'try', 'while', 'with', 'yield']\n"
          ]
        }
      ]
    },
    {
      "cell_type": "code",
      "source": [
        "# 4 Write a program that checks if a given word is a Python keyword.\n",
        "import keyword\n",
        "word = input(\"Enter a word: \")\n",
        "if keyword.iskeyword(word):\n",
        "    print(f\"{word} is a Python keyword.\")\n",
        "else:\n",
        "    print(f\"{word} is not a Python keyword.\")\n"
      ],
      "metadata": {
        "colab": {
          "base_uri": "https://localhost:8080/"
        },
        "id": "A1ynKMgabqPk",
        "outputId": "9657c025-292f-4e12-b49e-ccab383da5c6"
      },
      "execution_count": null,
      "outputs": [
        {
          "output_type": "stream",
          "name": "stdout",
          "text": [
            "Enter a word: in\n",
            "in is a Python keyword.\n"
          ]
        }
      ]
    },
    {
      "cell_type": "code",
      "source": [
        "# 5. Create a list and tuple in Python, and demonstrate how attempting to change an element works differently\n",
        "list=[1,2,3,4,5]\n",
        "tuple=(1,2,3,4,5)\n",
        "list[0]=10\n",
        "print(list)\n",
        "tuple[0]=10 # tuple is immutable  and this line throws an error as we tried to change the element\n",
        "print(tuple)"
      ],
      "metadata": {
        "colab": {
          "base_uri": "https://localhost:8080/",
          "height": 211
        },
        "id": "lRujH2LQb4Uo",
        "outputId": "1e87ca33-6b56-4f8d-d114-4953bb5023da"
      },
      "execution_count": null,
      "outputs": [
        {
          "output_type": "stream",
          "name": "stdout",
          "text": [
            "[10, 2, 3, 4, 5]\n"
          ]
        },
        {
          "output_type": "error",
          "ename": "TypeError",
          "evalue": "'tuple' object does not support item assignment",
          "traceback": [
            "\u001b[0;31m---------------------------------------------------------------------------\u001b[0m",
            "\u001b[0;31mTypeError\u001b[0m                                 Traceback (most recent call last)",
            "\u001b[0;32m/tmp/ipython-input-1105783454.py\u001b[0m in \u001b[0;36m<cell line: 0>\u001b[0;34m()\u001b[0m\n\u001b[1;32m      4\u001b[0m \u001b[0mlist\u001b[0m\u001b[0;34m[\u001b[0m\u001b[0;36m0\u001b[0m\u001b[0;34m]\u001b[0m\u001b[0;34m=\u001b[0m\u001b[0;36m10\u001b[0m\u001b[0;34m\u001b[0m\u001b[0;34m\u001b[0m\u001b[0m\n\u001b[1;32m      5\u001b[0m \u001b[0mprint\u001b[0m\u001b[0;34m(\u001b[0m\u001b[0mlist\u001b[0m\u001b[0;34m)\u001b[0m\u001b[0;34m\u001b[0m\u001b[0;34m\u001b[0m\u001b[0m\n\u001b[0;32m----> 6\u001b[0;31m \u001b[0mtuple\u001b[0m\u001b[0;34m[\u001b[0m\u001b[0;36m0\u001b[0m\u001b[0;34m]\u001b[0m\u001b[0;34m=\u001b[0m\u001b[0;36m10\u001b[0m\u001b[0;34m\u001b[0m\u001b[0;34m\u001b[0m\u001b[0m\n\u001b[0m\u001b[1;32m      7\u001b[0m \u001b[0mprint\u001b[0m\u001b[0;34m(\u001b[0m\u001b[0mtuple\u001b[0m\u001b[0;34m)\u001b[0m\u001b[0;34m\u001b[0m\u001b[0;34m\u001b[0m\u001b[0m\n",
            "\u001b[0;31mTypeError\u001b[0m: 'tuple' object does not support item assignment"
          ]
        }
      ]
    },
    {
      "cell_type": "code",
      "source": [
        "# 6. Write a function to demonstrate the behavior of mutable and immutable arguments.\n",
        "def func(num,list_num):\n",
        "    num+=10\n",
        "    list_num.append(10)\n",
        "    print(\"Inside function:\")\n",
        "    print(num)\n",
        "    print(list_num)\n",
        "x=5\n",
        "list_num=[1,2,3]\n",
        "print(\"before function:\")\n",
        "print(x)\n",
        "print(list_num)\n",
        "func(x,list_num)\n",
        "\n",
        "print(\"After function:\")\n",
        "print(x)\n",
        "print(list_num)\n"
      ],
      "metadata": {
        "colab": {
          "base_uri": "https://localhost:8080/"
        },
        "id": "Dc_EqzkYfrPf",
        "outputId": "62ba0aeb-6809-44e8-bdd8-5ad1e0653915"
      },
      "execution_count": null,
      "outputs": [
        {
          "output_type": "stream",
          "name": "stdout",
          "text": [
            "before function:\n",
            "5\n",
            "[1, 2, 3]\n",
            "Inside function:\n",
            "15\n",
            "[1, 2, 3, 10]\n",
            "After function:\n",
            "5\n",
            "[1, 2, 3, 10]\n"
          ]
        }
      ]
    },
    {
      "cell_type": "code",
      "source": [
        "# 7. Write a program that performs basic arithmetic operations on two user-input numbers.\n",
        "num1 = float(input(\"Enter the first number: \"))\n",
        "num2 = float(input(\"Enter the second number: \"))\n",
        "print(\"sum :\" , num1 + num2)\n",
        "print(\"difference :\",num1 - num2)\n",
        "print(\"product :\" ,num1 * num2)\n",
        "if num2!=0:\n",
        "   print(\"divide :\" , num1/num2)\n",
        "   print(\"floor_division :\",num1//num2)\n",
        "   print(\"remainder :\",num1%num2)\n",
        "   print(\"exponential_power :\",num1**num2)\n",
        "else:\n",
        "    print(\"Division, floor division, remainder, and power cannot be calculated when second number is zero.\")"
      ],
      "metadata": {
        "colab": {
          "base_uri": "https://localhost:8080/"
        },
        "id": "nb3eX4AVid4n",
        "outputId": "da995cda-078e-4224-b766-b4696b72d77d"
      },
      "execution_count": null,
      "outputs": [
        {
          "output_type": "stream",
          "name": "stdout",
          "text": [
            "Enter the first number: 45\n",
            "Enter the second number: 30\n",
            "sum : 75.0\n",
            "difference : 15.0\n",
            "product : 1350.0\n",
            "divide : 1.5\n",
            "floor_division : 1.0\n",
            "remainder : 15.0\n",
            "exponential_power : 3.94798426658066e+49\n"
          ]
        }
      ]
    },
    {
      "cell_type": "code",
      "source": [
        "# 8. Write a program to demonstrate the use of logical operators.\n",
        "a=5\n",
        "b=3\n",
        "\n",
        "print( a>b or a<4)\n",
        "#Returns True if at least one condition is true.\n",
        "\n",
        "print( a>b and a>4)\n",
        "#Returns True if both conditions are true.\n",
        "\n",
        "print(not(a>b))\n",
        "#Returns True if the condition is false and vice versa"
      ],
      "metadata": {
        "colab": {
          "base_uri": "https://localhost:8080/"
        },
        "id": "XVkgpnb7l0g5",
        "outputId": "92f1dd68-4366-4181-b5fe-81f693b68db2"
      },
      "execution_count": null,
      "outputs": [
        {
          "output_type": "stream",
          "name": "stdout",
          "text": [
            "True\n",
            "True\n",
            "False\n"
          ]
        }
      ]
    },
    {
      "cell_type": "code",
      "metadata": {
        "colab": {
          "base_uri": "https://localhost:8080/"
        },
        "id": "0fac1dab",
        "outputId": "e2fb7a39-d552-4490-94bc-1b6e77b1c2ee"
      },
      "source": [
        "# 9. Write a Python program to convert user input from string to integer, float, and boolean types.\n",
        "user_input = input(\"enter \")\n",
        "try:\n",
        "    int_value = int(user_input)\n",
        "    print(f\"Integer value: {int_value}\")\n",
        "except ValueError:\n",
        "    print(\"Cannot convert input to integer.\")\n",
        "\n",
        "try:\n",
        "    float_value = float(user_input)\n",
        "    print(f\"Float value: {float_value}\")\n",
        "except ValueError:\n",
        "    print(\"Cannot convert input to float.\")\n",
        "\n",
        "\n",
        "bool_value = bool(user_input)\n",
        "print(f\"Boolean value: {bool_value}\")"
      ],
      "execution_count": null,
      "outputs": [
        {
          "output_type": "stream",
          "name": "stdout",
          "text": [
            "enter 567\n",
            "Integer value: 567\n",
            "Float value: 567.0\n",
            "Boolean value: True\n"
          ]
        }
      ]
    },
    {
      "cell_type": "code",
      "source": [
        "#  10. Write code to demonstrate type casting with list elements.\n",
        "list = [1, 2.5, '3', True, False]\n",
        "print(\"Original list:\", list)\n",
        "\n",
        "# convert each element to integer\n",
        "int_numbers = [int(num) for num in list]\n",
        "print(\"casting into Integer:\", int_numbers)\n",
        "\n",
        "# convert each element to string\n",
        "string_list = [str(num) for num in list]\n",
        "print(\"casting to String:\", string_list)\n",
        "\n",
        "# Convert each element to float\n",
        "float_numbers = [float(num) for num in list]\n",
        "print(\"casting to Float:\", float_numbers)\n",
        "\n",
        "# Boolean conversion (0 -> False, anything else -> True)\n",
        "bool_values = [bool(num) for num in int_numbers]\n",
        "print(\"casting to Boolean:\", bool_values)\n"
      ],
      "metadata": {
        "colab": {
          "base_uri": "https://localhost:8080/"
        },
        "id": "lKPf94-wtX4F",
        "outputId": "a0d078e4-da94-4f39-9252-f1410c5a598b"
      },
      "execution_count": null,
      "outputs": [
        {
          "output_type": "stream",
          "name": "stdout",
          "text": [
            "Original list: [1, 2.5, '3', True, False]\n",
            "casting into Integer: [1, 2, 3, 1, 0]\n",
            "casting to String: ['1', '2.5', '3', 'True', 'False']\n",
            "casting to Float: [1.0, 2.5, 3.0, 1.0, 0.0]\n",
            "casting to Boolean: [True, True, True, True, False]\n"
          ]
        }
      ]
    },
    {
      "cell_type": "code",
      "source": [
        "#  11. Write a program that checks if a number is positive, negative, or zero.\n",
        "user_input=int(input(\"enter a number \"))\n",
        "if user_input>0:\n",
        "    print(f\" {user_input} is positive\")\n",
        "elif user_input==0:\n",
        "    print(f\" {user_input} is zero\")\n",
        "else:\n",
        "      print(f\" {user_input} is negative\")"
      ],
      "metadata": {
        "colab": {
          "base_uri": "https://localhost:8080/"
        },
        "id": "z1ECg-mh8CQx",
        "outputId": "4e065655-2ea0-41bb-f5b4-14843ea3d4ef"
      },
      "execution_count": null,
      "outputs": [
        {
          "output_type": "stream",
          "name": "stdout",
          "text": [
            "enter a number -9876\n",
            " -9876 is negative\n"
          ]
        }
      ]
    },
    {
      "cell_type": "code",
      "source": [
        "# 12. Write a for loop to print numbers from 1 to 10.\n",
        "for i in range(1,11):\n",
        "  print(i , end=\",\")"
      ],
      "metadata": {
        "colab": {
          "base_uri": "https://localhost:8080/"
        },
        "id": "xl-Idd7J8mfg",
        "outputId": "73ca9849-89fd-4b71-edd9-80725b76fe51"
      },
      "execution_count": null,
      "outputs": [
        {
          "output_type": "stream",
          "name": "stdout",
          "text": [
            "1,2,3,4,5,6,7,8,9,10,"
          ]
        }
      ]
    },
    {
      "cell_type": "code",
      "source": [
        "# 13. Write a Python program to find the sum of all even numbers between 1 and 50.\n",
        "sum=0\n",
        "for i in range(2,51):\n",
        "  if i %2== 0:\n",
        "    sum+= i\n",
        "print(\"Sum of even numbers : \", sum)"
      ],
      "metadata": {
        "colab": {
          "base_uri": "https://localhost:8080/"
        },
        "id": "TS3LzvgC-hdh",
        "outputId": "dd1fcedb-887a-4d6b-faa5-1c838eba3cf7"
      },
      "execution_count": null,
      "outputs": [
        {
          "output_type": "stream",
          "name": "stdout",
          "text": [
            "Sum of even numbers :  650\n"
          ]
        }
      ]
    },
    {
      "cell_type": "code",
      "source": [
        "# 14. Write a program to reverse a string using a while loop.\n",
        "user_input = input(\" enter the string: \")\n",
        "reversed_string = \"\"\n",
        "index = len(user_input) - 1\n",
        "\n",
        "while index >= 0:\n",
        "    reversed_string += user_input[index]\n",
        "    index -= 1\n",
        "\n",
        "print(\"Reversed string:\", reversed_string)"
      ],
      "metadata": {
        "colab": {
          "base_uri": "https://localhost:8080/"
        },
        "id": "cNqpT0j7Crqb",
        "outputId": "46ba5f29-6bbd-4bd8-f642-f0e45e8d81ec"
      },
      "execution_count": null,
      "outputs": [
        {
          "output_type": "stream",
          "name": "stdout",
          "text": [
            " enter the string: saba\n",
            "Reversed string: abas\n"
          ]
        }
      ]
    },
    {
      "cell_type": "code",
      "source": [
        "# 15. Write a Python program to calculate the factorial of a number provided by the user using a while loop\n",
        "user_input= int(input(\" enter the number \"))\n",
        "result=1\n",
        "i=1\n",
        "if user_input <0:\n",
        "  print(\"factorial does not exist for -ve numbers\")\n",
        "else:\n",
        "     while i<=user_input:\n",
        "       result*= i\n",
        "       i+=1\n",
        "     print(f\" factorial of {user_input} is :\" , result)"
      ],
      "metadata": {
        "colab": {
          "base_uri": "https://localhost:8080/"
        },
        "id": "8vVXWYfLDF5p",
        "outputId": "c33b4de7-dfc5-4f61-bea7-833c49d68ed5"
      },
      "execution_count": null,
      "outputs": [
        {
          "output_type": "stream",
          "name": "stdout",
          "text": [
            " enter the number -098\n",
            "factorial does not exist for -ve numbers\n"
          ]
        }
      ]
    }
  ]
}